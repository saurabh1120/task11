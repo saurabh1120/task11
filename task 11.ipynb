{
 "cells": [
  {
   "cell_type": "markdown",
   "metadata": {},
   "source": [
    "# Task 11\n",
    "\n",
    "# Registration no - SIRSS1263\n",
    "\n",
    "# Name Saurabh Sinha\n"
   ]
  },
  {
   "cell_type": "markdown",
   "metadata": {},
   "source": [
    "### Q.1) Given an array of N integers arr[] where each element represents the max number of\n",
    "### steps that can be made forward from that element.\n",
    "### Find the minimum number of jumps to reach the end of the array (starting from the first element).\n",
    "### If an element is 0, then you cannot move through that element.\n",
    "### Note: Return -1 if you can't reach the end of the array.\n",
    "\n",
    "### Example 1:\n",
    "### Input:\n",
    "### N = 11\n",
    "### arr[] = {1, 3, 5, 8, 9, 2, 6, 7, 6, 8, 9}\n",
    "### Output: 3\n",
    "\n",
    "### Explanation:\n",
    "### First jump from 1st element to 2nd element with value 3. Now, from here  we jump to 5th element with value 9, and from here we will jump to last."
   ]
  },
  {
   "cell_type": "code",
   "execution_count": 5,
   "metadata": {},
   "outputs": [],
   "source": [
    "def jump(arr, l, h):\n",
    "    if (h == l):\n",
    "        return 0\n",
    "\n",
    "    if (arr[l] == 0):\n",
    "        return float('inf')\n",
    "\n",
    "    min = float('inf')\n",
    "    for i in range(l + 1, h + 1):\n",
    "        if (i < l + arr[l] + 1):\n",
    "            jumps = jump(arr, i, h)\n",
    "            if (jumps != float('inf') and\n",
    "                    jumps + 1 < min):\n",
    "                min = jumps + 1\n",
    "\n",
    "    return min"
   ]
  },
  {
   "cell_type": "code",
   "execution_count": 7,
   "metadata": {},
   "outputs": [
    {
     "name": "stdout",
     "output_type": "stream",
     "text": [
      "Minimum number of jumps to reach the end of an array is : =>  3\n"
     ]
    }
   ],
   "source": [
    "arr = [1, 3, 5, 8, 9, 2, 6, 7, 6, 8, 9]\n",
    "n = len(arr)\n",
    "print(\"Minimum number of jumps to reach the end of an array is : => \", jump(arr, 0, n - 1))"
   ]
  },
  {
   "cell_type": "markdown",
   "metadata": {},
   "source": [
    "### Q.2) Given an array of N integers, and an integer K,\n",
    "### find the number of pairs of elements in the array whose sum is equal to K.\n",
    "\n",
    "### Example 1:\n",
    "### Input:\n",
    "### N = 4, K = 6\n",
    "### arr[] = {1, 5, 7, 1}\n",
    "### Output: 2\n",
    "\n",
    "### Explanation:\n",
    "### arr[0] + arr[1] = 1 + 5 = 6\n",
    "### and arr[1] + arr[3] = 5 + 1 = 6."
   ]
  },
  {
   "cell_type": "code",
   "execution_count": 15,
   "metadata": {},
   "outputs": [],
   "source": [
    "def num_of_pairs(arr, n, k):\n",
    "    for i in range(0, n):\n",
    "        for j in range(i + 1, n):\n",
    "            if (arr[i] + arr[j] == k):\n",
    "                print(\"(\", arr[i], \", \", arr[j], \")\")"
   ]
  },
  {
   "cell_type": "code",
   "execution_count": 16,
   "metadata": {},
   "outputs": [
    {
     "name": "stdout",
     "output_type": "stream",
     "text": [
      "( 1 ,  5 )\n",
      "( 5 ,  1 )\n"
     ]
    }
   ],
   "source": [
    "arr = [1, 5, 7, 1]\n",
    "n = 4\n",
    "k = 6\n",
    "num_of_pairs(arr, n, k)"
   ]
  },
  {
   "cell_type": "markdown",
   "metadata": {},
   "source": [
    "### Q.3) Given two arrays: a1[0..n-1] of size n and a2[0..m-1] of size m.\n",
    "### Task is to check whether a2[] is a subset of a1[] or not.\n",
    "### Both the arrays can be sorted or unsorted.\n",
    "### It may be assumed that elements in both array are distinct.\n",
    "\n",
    "### Example 1:\n",
    "### Input:\n",
    "### a1[] = {11, 1, 13, 21, 3, 7}\n",
    "### a2[] = {11, 3, 7, 1}\n",
    "### Output:\n",
    "### Yes\n",
    "\n",
    "### Explanation:\n",
    "### a2[] is a subset of a1[]"
   ]
  },
  {
   "cell_type": "code",
   "execution_count": 17,
   "metadata": {},
   "outputs": [],
   "source": [
    "def subset(a1, a2, l1, l2):\n",
    "    i = 0\n",
    "    j = 0\n",
    "    if l1 < l2:\n",
    "        return 0\n",
    "\n",
    "    a1.sort()\n",
    "    a2.sort()\n",
    "\n",
    "    while i < l1 and j < l2:\n",
    "        if a1[j] < a2[i]:\n",
    "            j += 1\n",
    "        elif a1[j] == a2[i]:\n",
    "            j += 1\n",
    "            i += 1\n",
    "        elif a1[j] > a2[i]:\n",
    "            return 0\n",
    "    else:\n",
    "        return False if i < l2 else True"
   ]
  },
  {
   "cell_type": "code",
   "execution_count": 18,
   "metadata": {},
   "outputs": [
    {
     "name": "stdout",
     "output_type": "stream",
     "text": [
      "Yes\n"
     ]
    }
   ],
   "source": [
    "a1 = [11, 1, 13, 21, 3, 7]\n",
    "a2 = [11, 3, 7, 1]\n",
    "\n",
    "l1 = len(a1)\n",
    "l2 = len(a2)\n",
    "if subset(a1, a2, l1, l2) == True:\n",
    "    print(\"Yes\")\n",
    "else:\n",
    "    print(\"No\")"
   ]
  },
  {
   "cell_type": "markdown",
   "metadata": {},
   "source": [
    " "
   ]
  },
  {
   "cell_type": "markdown",
   "metadata": {},
   "source": [
    "### Q.4) Number Series with a Twist\n",
    "### Consider the series : 0,0,2,1,4,2,6,3,8,4,10,5,12,6,14,7,16,8\n",
    "\n",
    "### This series is a mixture of 2 series, all the odd terms in this series form even numbers in\n",
    "### ascending order and every even terms is derived from the previous term using the formula\n",
    "### (x/2)\n",
    "\n",
    "### Write a program to find the nth term in this series.\n",
    "### The value of n is a positive integer that should be read from STDIN and the nth term that is\n",
    "### to be calculated by the program should be written to STDOUT.\n",
    "### Other than the value of the nth term, no other characters /strings or message should be\n",
    "### written to STDOUT.\n",
    "### For example\n",
    "\n",
    "### If n=10, the 10th term in the series is to be derived from the 9th term in the series. The 9th\n",
    "### term is 8 so the 10th term is (8/2)=4. Only the value 4 should be printed to STDOUT.\n",
    "\n",
    "### You can assume that the n will not exceed 20,000."
   ]
  },
  {
   "cell_type": "code",
   "execution_count": 21,
   "metadata": {},
   "outputs": [
    {
     "name": "stdout",
     "output_type": "stream",
     "text": [
      "Enter the number: =>12\n",
      "5\n"
     ]
    }
   ],
   "source": [
    "n = int(input('Enter the number: =>'))\n",
    "a=0\n",
    "b=0\n",
    "for i in range(1,n+1):\n",
    "    if(i%2!=0):\n",
    "        a= a+2\n",
    "    else:\n",
    "        b= b+1\n",
    "if(n%2!=0):\n",
    "    print('{}'.format(a-2))\n",
    "else:\n",
    "    print('{}'.format(b-1))"
   ]
  },
  {
   "cell_type": "markdown",
   "metadata": {},
   "source": [
    "## Thankyou"
   ]
  },
  {
   "cell_type": "code",
   "execution_count": null,
   "metadata": {},
   "outputs": [],
   "source": []
  }
 ],
 "metadata": {
  "kernelspec": {
   "display_name": "Python 3",
   "language": "python",
   "name": "python3"
  },
  "language_info": {
   "codemirror_mode": {
    "name": "ipython",
    "version": 3
   },
   "file_extension": ".py",
   "mimetype": "text/x-python",
   "name": "python",
   "nbconvert_exporter": "python",
   "pygments_lexer": "ipython3",
   "version": "3.8.5"
  }
 },
 "nbformat": 4,
 "nbformat_minor": 4
}
